{
 "cells": [
  {
   "cell_type": "markdown",
   "metadata": {
    "id": "xDYMX09XkYhf"
   },
   "source": [
    "<font color='green'><center><h1> Deep Learning for Pneumonia Detection from Chest X-Ray Images </h1></center>"
   ]
  },
  {
   "cell_type": "markdown",
   "metadata": {
    "id": "C85LRpV5k3UO"
   },
   "source": [
    "<font color='purple'><center><h1> Table of Contents </h1></center>"
   ]
  },
  {
   "cell_type": "markdown",
   "metadata": {
    "id": "IiuGrPG1GlFs"
   },
   "source": [
    "### Table of Contents\n",
    "\n",
    "* [Import Module](#chapter1)\n",
    "    * [Import the Libraries](#section_1_1)\n",
    "    * [Importing the Dataset](section_1_2)\n",
    "* [Data Visualization and Augmentation](#chapter2)\n",
    "    * [Data Visualization](#section_2_1)\n",
    "    * [Data Augmentation](section_2_2)\n",
    "* [Build the Model - Main](#chapter3) \n",
    "* [Evaluate the Model](#chapter4)\n",
    "    * [Confusion Matrix & Classification Report](#section_4_1)\n",
    "    * [Plotting Loss and Accuracy](#section_4_2)\n",
    "* [Hyperparameter Tuning with SGD Optimizer - Model 2](#chapter5)\n",
    "* [Hyperparameter Tuning with Network Depth - Model 3](#chapter6)\n",
    "* [Inferences and Comments](#chapter7)"
   ]
  },
  {
   "cell_type": "markdown",
   "metadata": {
    "id": "Cn6gt9YvGmGv"
   },
   "source": [
    "<a class=\"anchor\" id=\"chapter1\"></a>"
   ]
  },
  {
   "cell_type": "markdown",
   "metadata": {
    "id": "aSwY9lLMGko3"
   },
   "source": [
    "<font color='purple'><center><h1> Import Module </h1></center>"
   ]
  },
  {
   "cell_type": "markdown",
   "metadata": {
    "id": "n4KGffeQG6gH"
   },
   "source": [
    "<font color='blue'><center><h2> Import the Libraries </h2></center>"
   ]
  },
  {
   "cell_type": "code",
   "execution_count": 9,
   "metadata": {
    "colab": {
     "base_uri": "https://localhost:8080/"
    },
    "id": "qNCFBiumJbMz",
    "outputId": "f70e127f-f059-479b-f42b-1c11a7b4eddd"
   },
   "outputs": [
    {
     "name": "stdout",
     "output_type": "stream",
     "text": [
      "TensorFlow version: 2.8.2\n"
     ]
    }
   ],
   "source": [
    "# importing the packages necessary for this assignment problem\n",
    "\n",
    "import numpy as np\n",
    "import pandas as pd\n",
    "import math\n",
    "import os\n",
    "import timeit\n",
    "\n",
    "from sklearn import preprocessing\n",
    "from sklearn import metrics\n",
    "from sklearn.metrics import roc_auc_score\n",
    "from sklearn.metrics import roc_curve\n",
    "from sklearn.model_selection import train_test_split\n",
    "\n",
    "from sklearn.model_selection import RepeatedStratifiedKFold\n",
    "from sklearn.model_selection import GridSearchCV\n",
    "\n",
    "#for checking testing results\n",
    "from sklearn.metrics import classification_report, confusion_matrix\n",
    "import statsmodels.api as sm\n",
    "from sklearn.metrics import accuracy_score\n",
    "\n",
    "# Import visualization libraries\n",
    "from matplotlib import pyplot as plt\n",
    "plt.rc(\"font\", size=14)\n",
    "import matplotlib.cm as cm\n",
    "from mpl_toolkits.mplot3d import Axes3D\n",
    "from matplotlib.ticker import AutoLocator, MaxNLocator, LinearLocator, MultipleLocator, FixedLocator, NullLocator\n",
    "\n",
    "import seaborn as sns\n",
    "sns.set(style=\"white\")\n",
    "sns.set(style=\"whitegrid\", color_codes=True)\n",
    "\n",
    "# and we want to view the charts inline\n",
    "%matplotlib inline\n",
    "\n",
    "# Import deep learning libraries\n",
    "import tensorflow as tf\n",
    "print(\"TensorFlow version:\", tf.__version__)\n",
    "\n",
    "from tensorflow.keras.layers import Dense, Flatten, Conv2D\n",
    "from tensorflow.keras import Model\n",
    "\n",
    "from numpy import expand_dims\n",
    "from keras.preprocessing.image import load_img\n",
    "from keras.preprocessing.image import img_to_array\n",
    "from keras.preprocessing.image import ImageDataGenerator"
   ]
  },
  {
   "cell_type": "markdown",
   "metadata": {
    "id": "li3Qba8WNGjd"
   },
   "source": [
    "<font color='blue'><center><h2> Importing the Dataset </h2></center>"
   ]
  },
  {
   "cell_type": "code",
   "execution_count": 10,
   "metadata": {
    "colab": {
     "base_uri": "https://localhost:8080/"
    },
    "id": "rEZh2pOYNHlS",
    "outputId": "d05cc40c-f43b-4067-de05-7f7a3c8ee057"
   },
   "outputs": [
    {
     "name": "stdout",
     "output_type": "stream",
     "text": [
      "Drive already mounted at /content/drive; to attempt to forcibly remount, call drive.mount(\"/content/drive\", force_remount=True).\n"
     ]
    }
   ],
   "source": [
    "# Mount BITS Google Drive\n",
    "\n",
    "from google.colab import drive\n",
    "drive.mount('/content/drive')"
   ]
  },
  {
   "cell_type": "code",
   "execution_count": 11,
   "metadata": {
    "colab": {
     "base_uri": "https://localhost:8080/",
     "height": 424
    },
    "id": "qLkz5bJne2GM",
    "outputId": "ee71062a-eebe-4572-9641-1d1091cbb1fc"
   },
   "outputs": [
    {
     "data": {
      "text/html": [
       "\n",
       "  <div id=\"df-7375aeae-03b1-4a74-9f3b-5727ea601810\">\n",
       "    <div class=\"colab-df-container\">\n",
       "      <div>\n",
       "<style scoped>\n",
       "    .dataframe tbody tr th:only-of-type {\n",
       "        vertical-align: middle;\n",
       "    }\n",
       "\n",
       "    .dataframe tbody tr th {\n",
       "        vertical-align: top;\n",
       "    }\n",
       "\n",
       "    .dataframe thead th {\n",
       "        text-align: right;\n",
       "    }\n",
       "</style>\n",
       "<table border=\"1\" class=\"dataframe\">\n",
       "  <thead>\n",
       "    <tr style=\"text-align: right;\">\n",
       "      <th></th>\n",
       "      <th>images</th>\n",
       "      <th>target</th>\n",
       "      <th>image_paths</th>\n",
       "    </tr>\n",
       "  </thead>\n",
       "  <tbody>\n",
       "    <tr>\n",
       "      <th>0</th>\n",
       "      <td>person549_bacteria_2303.jpeg</td>\n",
       "      <td>PNEUMONIA</td>\n",
       "      <td>drive/MyDrive/Colab Notebooks/chest_xray/chest...</td>\n",
       "    </tr>\n",
       "    <tr>\n",
       "      <th>1</th>\n",
       "      <td>person533_virus_1055.jpeg</td>\n",
       "      <td>PNEUMONIA</td>\n",
       "      <td>drive/MyDrive/Colab Notebooks/chest_xray/chest...</td>\n",
       "    </tr>\n",
       "    <tr>\n",
       "      <th>2</th>\n",
       "      <td>person491_bacteria_2081.jpeg</td>\n",
       "      <td>PNEUMONIA</td>\n",
       "      <td>drive/MyDrive/Colab Notebooks/chest_xray/chest...</td>\n",
       "    </tr>\n",
       "    <tr>\n",
       "      <th>3</th>\n",
       "      <td>person504_bacteria_2127.jpeg</td>\n",
       "      <td>PNEUMONIA</td>\n",
       "      <td>drive/MyDrive/Colab Notebooks/chest_xray/chest...</td>\n",
       "    </tr>\n",
       "    <tr>\n",
       "      <th>4</th>\n",
       "      <td>person548_bacteria_2297.jpeg</td>\n",
       "      <td>PNEUMONIA</td>\n",
       "      <td>drive/MyDrive/Colab Notebooks/chest_xray/chest...</td>\n",
       "    </tr>\n",
       "    <tr>\n",
       "      <th>...</th>\n",
       "      <td>...</td>\n",
       "      <td>...</td>\n",
       "      <td>...</td>\n",
       "    </tr>\n",
       "    <tr>\n",
       "      <th>5213</th>\n",
       "      <td>IM-0512-0001.jpeg</td>\n",
       "      <td>NORMAL</td>\n",
       "      <td>drive/MyDrive/Colab Notebooks/chest_xray/chest...</td>\n",
       "    </tr>\n",
       "    <tr>\n",
       "      <th>5214</th>\n",
       "      <td>IM-0523-0001-0001.jpeg</td>\n",
       "      <td>NORMAL</td>\n",
       "      <td>drive/MyDrive/Colab Notebooks/chest_xray/chest...</td>\n",
       "    </tr>\n",
       "    <tr>\n",
       "      <th>5215</th>\n",
       "      <td>IM-0524-0001.jpeg</td>\n",
       "      <td>NORMAL</td>\n",
       "      <td>drive/MyDrive/Colab Notebooks/chest_xray/chest...</td>\n",
       "    </tr>\n",
       "    <tr>\n",
       "      <th>5216</th>\n",
       "      <td>IM-0531-0001-0001.jpeg</td>\n",
       "      <td>NORMAL</td>\n",
       "      <td>drive/MyDrive/Colab Notebooks/chest_xray/chest...</td>\n",
       "    </tr>\n",
       "    <tr>\n",
       "      <th>5217</th>\n",
       "      <td>IM-0520-0001.jpeg</td>\n",
       "      <td>NORMAL</td>\n",
       "      <td>drive/MyDrive/Colab Notebooks/chest_xray/chest...</td>\n",
       "    </tr>\n",
       "  </tbody>\n",
       "</table>\n",
       "<p>5218 rows × 3 columns</p>\n",
       "</div>\n",
       "      <button class=\"colab-df-convert\" onclick=\"convertToInteractive('df-7375aeae-03b1-4a74-9f3b-5727ea601810')\"\n",
       "              title=\"Convert this dataframe to an interactive table.\"\n",
       "              style=\"display:none;\">\n",
       "        \n",
       "  <svg xmlns=\"http://www.w3.org/2000/svg\" height=\"24px\"viewBox=\"0 0 24 24\"\n",
       "       width=\"24px\">\n",
       "    <path d=\"M0 0h24v24H0V0z\" fill=\"none\"/>\n",
       "    <path d=\"M18.56 5.44l.94 2.06.94-2.06 2.06-.94-2.06-.94-.94-2.06-.94 2.06-2.06.94zm-11 1L8.5 8.5l.94-2.06 2.06-.94-2.06-.94L8.5 2.5l-.94 2.06-2.06.94zm10 10l.94 2.06.94-2.06 2.06-.94-2.06-.94-.94-2.06-.94 2.06-2.06.94z\"/><path d=\"M17.41 7.96l-1.37-1.37c-.4-.4-.92-.59-1.43-.59-.52 0-1.04.2-1.43.59L10.3 9.45l-7.72 7.72c-.78.78-.78 2.05 0 2.83L4 21.41c.39.39.9.59 1.41.59.51 0 1.02-.2 1.41-.59l7.78-7.78 2.81-2.81c.8-.78.8-2.07 0-2.86zM5.41 20L4 18.59l7.72-7.72 1.47 1.35L5.41 20z\"/>\n",
       "  </svg>\n",
       "      </button>\n",
       "      \n",
       "  <style>\n",
       "    .colab-df-container {\n",
       "      display:flex;\n",
       "      flex-wrap:wrap;\n",
       "      gap: 12px;\n",
       "    }\n",
       "\n",
       "    .colab-df-convert {\n",
       "      background-color: #E8F0FE;\n",
       "      border: none;\n",
       "      border-radius: 50%;\n",
       "      cursor: pointer;\n",
       "      display: none;\n",
       "      fill: #1967D2;\n",
       "      height: 32px;\n",
       "      padding: 0 0 0 0;\n",
       "      width: 32px;\n",
       "    }\n",
       "\n",
       "    .colab-df-convert:hover {\n",
       "      background-color: #E2EBFA;\n",
       "      box-shadow: 0px 1px 2px rgba(60, 64, 67, 0.3), 0px 1px 3px 1px rgba(60, 64, 67, 0.15);\n",
       "      fill: #174EA6;\n",
       "    }\n",
       "\n",
       "    [theme=dark] .colab-df-convert {\n",
       "      background-color: #3B4455;\n",
       "      fill: #D2E3FC;\n",
       "    }\n",
       "\n",
       "    [theme=dark] .colab-df-convert:hover {\n",
       "      background-color: #434B5C;\n",
       "      box-shadow: 0px 1px 3px 1px rgba(0, 0, 0, 0.15);\n",
       "      filter: drop-shadow(0px 1px 2px rgba(0, 0, 0, 0.3));\n",
       "      fill: #FFFFFF;\n",
       "    }\n",
       "  </style>\n",
       "\n",
       "      <script>\n",
       "        const buttonEl =\n",
       "          document.querySelector('#df-7375aeae-03b1-4a74-9f3b-5727ea601810 button.colab-df-convert');\n",
       "        buttonEl.style.display =\n",
       "          google.colab.kernel.accessAllowed ? 'block' : 'none';\n",
       "\n",
       "        async function convertToInteractive(key) {\n",
       "          const element = document.querySelector('#df-7375aeae-03b1-4a74-9f3b-5727ea601810');\n",
       "          const dataTable =\n",
       "            await google.colab.kernel.invokeFunction('convertToInteractive',\n",
       "                                                     [key], {});\n",
       "          if (!dataTable) return;\n",
       "\n",
       "          const docLinkHtml = 'Like what you see? Visit the ' +\n",
       "            '<a target=\"_blank\" href=https://colab.research.google.com/notebooks/data_table.ipynb>data table notebook</a>'\n",
       "            + ' to learn more about interactive tables.';\n",
       "          element.innerHTML = '';\n",
       "          dataTable['output_type'] = 'display_data';\n",
       "          await google.colab.output.renderOutput(dataTable, element);\n",
       "          const docLink = document.createElement('div');\n",
       "          docLink.innerHTML = docLinkHtml;\n",
       "          element.appendChild(docLink);\n",
       "        }\n",
       "      </script>\n",
       "    </div>\n",
       "  </div>\n",
       "  "
      ],
      "text/plain": [
       "                            images     target  \\\n",
       "0     person549_bacteria_2303.jpeg  PNEUMONIA   \n",
       "1        person533_virus_1055.jpeg  PNEUMONIA   \n",
       "2     person491_bacteria_2081.jpeg  PNEUMONIA   \n",
       "3     person504_bacteria_2127.jpeg  PNEUMONIA   \n",
       "4     person548_bacteria_2297.jpeg  PNEUMONIA   \n",
       "...                            ...        ...   \n",
       "5213             IM-0512-0001.jpeg     NORMAL   \n",
       "5214        IM-0523-0001-0001.jpeg     NORMAL   \n",
       "5215             IM-0524-0001.jpeg     NORMAL   \n",
       "5216        IM-0531-0001-0001.jpeg     NORMAL   \n",
       "5217             IM-0520-0001.jpeg     NORMAL   \n",
       "\n",
       "                                            image_paths  \n",
       "0     drive/MyDrive/Colab Notebooks/chest_xray/chest...  \n",
       "1     drive/MyDrive/Colab Notebooks/chest_xray/chest...  \n",
       "2     drive/MyDrive/Colab Notebooks/chest_xray/chest...  \n",
       "3     drive/MyDrive/Colab Notebooks/chest_xray/chest...  \n",
       "4     drive/MyDrive/Colab Notebooks/chest_xray/chest...  \n",
       "...                                                 ...  \n",
       "5213  drive/MyDrive/Colab Notebooks/chest_xray/chest...  \n",
       "5214  drive/MyDrive/Colab Notebooks/chest_xray/chest...  \n",
       "5215  drive/MyDrive/Colab Notebooks/chest_xray/chest...  \n",
       "5216  drive/MyDrive/Colab Notebooks/chest_xray/chest...  \n",
       "5217  drive/MyDrive/Colab Notebooks/chest_xray/chest...  \n",
       "\n",
       "[5218 rows x 3 columns]"
      ]
     },
     "execution_count": 11,
     "metadata": {},
     "output_type": "execute_result"
    }
   ],
   "source": [
    "# All the train, test and val folders stored as keys in an array (arr)\n",
    "arr = next(os.walk('drive/MyDrive/Colab Notebooks/chest_xray'))[1]\n",
    "arr = arr[2:]\n",
    "\n",
    "# Create a dictionary using the aforementioned keys to form a dataframe\n",
    "d = {}\n",
    "for i in arr:\n",
    "  d[i] = next(os.walk('drive/MyDrive/Colab Notebooks/chest_xray/chest_xray/'+i))[1]\n",
    "\n",
    "for i in arr:\n",
    "    target = []\n",
    "    images = []\n",
    "    for j in d[i]:\n",
    "        files = next(os.walk('drive/MyDrive/Colab Notebooks/chest_xray/chest_xray/'+i+'/'+j))[2]\n",
    "        images += files\n",
    "        target += [j]*len(files)\n",
    "    \n",
    "    d[i] = pd.DataFrame({'images':np.array(images).flatten(),'target':np.array(target).flatten()})\n",
    "       \n",
    "# Appending absolute paths to the image url\n",
    "for i in arr:\n",
    "    d[i]['image_paths'] =  'drive/MyDrive/Colab Notebooks/chest_xray/chest_xray/'+ i + '/' + d[i]['target'] + '/' + d[i]['images']\n",
    "    \n",
    "train = d['train']\n",
    "val = d['val']\n",
    "test = d['test']\n",
    "\n",
    "# Display the dataframe\n",
    "train"
   ]
  },
  {
   "cell_type": "code",
   "execution_count": 12,
   "metadata": {
    "colab": {
     "base_uri": "https://localhost:8080/",
     "height": 424
    },
    "id": "OIw98fwRe260",
    "outputId": "656fa747-e8cd-41dc-f17d-749a8baa99e1"
   },
   "outputs": [
    {
     "data": {
      "text/html": [
       "\n",
       "  <div id=\"df-aa824faa-4139-4f12-9e17-b6b4111a46fc\">\n",
       "    <div class=\"colab-df-container\">\n",
       "      <div>\n",
       "<style scoped>\n",
       "    .dataframe tbody tr th:only-of-type {\n",
       "        vertical-align: middle;\n",
       "    }\n",
       "\n",
       "    .dataframe tbody tr th {\n",
       "        vertical-align: top;\n",
       "    }\n",
       "\n",
       "    .dataframe thead th {\n",
       "        text-align: right;\n",
       "    }\n",
       "</style>\n",
       "<table border=\"1\" class=\"dataframe\">\n",
       "  <thead>\n",
       "    <tr style=\"text-align: right;\">\n",
       "      <th></th>\n",
       "      <th>images</th>\n",
       "      <th>target</th>\n",
       "      <th>image_paths</th>\n",
       "    </tr>\n",
       "  </thead>\n",
       "  <tbody>\n",
       "    <tr>\n",
       "      <th>0</th>\n",
       "      <td>person1814_bacteria_4669.jpeg</td>\n",
       "      <td>PNEUMONIA</td>\n",
       "      <td>drive/MyDrive/Colab Notebooks/chest_xray/chest...</td>\n",
       "    </tr>\n",
       "    <tr>\n",
       "      <th>1</th>\n",
       "      <td>person359_bacteria_1646.jpeg</td>\n",
       "      <td>PNEUMONIA</td>\n",
       "      <td>drive/MyDrive/Colab Notebooks/chest_xray/chest...</td>\n",
       "    </tr>\n",
       "    <tr>\n",
       "      <th>2</th>\n",
       "      <td>person420_bacteria_1847.jpeg</td>\n",
       "      <td>PNEUMONIA</td>\n",
       "      <td>drive/MyDrive/Colab Notebooks/chest_xray/chest...</td>\n",
       "    </tr>\n",
       "    <tr>\n",
       "      <th>3</th>\n",
       "      <td>IM-0555-0001.jpeg</td>\n",
       "      <td>NORMAL</td>\n",
       "      <td>drive/MyDrive/Colab Notebooks/chest_xray/chest...</td>\n",
       "    </tr>\n",
       "    <tr>\n",
       "      <th>4</th>\n",
       "      <td>person1122_virus_1847.jpeg</td>\n",
       "      <td>PNEUMONIA</td>\n",
       "      <td>drive/MyDrive/Colab Notebooks/chest_xray/chest...</td>\n",
       "    </tr>\n",
       "    <tr>\n",
       "      <th>...</th>\n",
       "      <td>...</td>\n",
       "      <td>...</td>\n",
       "      <td>...</td>\n",
       "    </tr>\n",
       "    <tr>\n",
       "      <th>5213</th>\n",
       "      <td>person294_virus_611.jpeg</td>\n",
       "      <td>PNEUMONIA</td>\n",
       "      <td>drive/MyDrive/Colab Notebooks/chest_xray/chest...</td>\n",
       "    </tr>\n",
       "    <tr>\n",
       "      <th>5214</th>\n",
       "      <td>person827_bacteria_2738.jpeg</td>\n",
       "      <td>PNEUMONIA</td>\n",
       "      <td>drive/MyDrive/Colab Notebooks/chest_xray/chest...</td>\n",
       "    </tr>\n",
       "    <tr>\n",
       "      <th>5215</th>\n",
       "      <td>person1433_virus_2447.jpeg</td>\n",
       "      <td>PNEUMONIA</td>\n",
       "      <td>drive/MyDrive/Colab Notebooks/chest_xray/chest...</td>\n",
       "    </tr>\n",
       "    <tr>\n",
       "      <th>5216</th>\n",
       "      <td>person279_bacteria_1315.jpeg</td>\n",
       "      <td>PNEUMONIA</td>\n",
       "      <td>drive/MyDrive/Colab Notebooks/chest_xray/chest...</td>\n",
       "    </tr>\n",
       "    <tr>\n",
       "      <th>5217</th>\n",
       "      <td>person448_bacteria_1933.jpeg</td>\n",
       "      <td>PNEUMONIA</td>\n",
       "      <td>drive/MyDrive/Colab Notebooks/chest_xray/chest...</td>\n",
       "    </tr>\n",
       "  </tbody>\n",
       "</table>\n",
       "<p>5218 rows × 3 columns</p>\n",
       "</div>\n",
       "      <button class=\"colab-df-convert\" onclick=\"convertToInteractive('df-aa824faa-4139-4f12-9e17-b6b4111a46fc')\"\n",
       "              title=\"Convert this dataframe to an interactive table.\"\n",
       "              style=\"display:none;\">\n",
       "        \n",
       "  <svg xmlns=\"http://www.w3.org/2000/svg\" height=\"24px\"viewBox=\"0 0 24 24\"\n",
       "       width=\"24px\">\n",
       "    <path d=\"M0 0h24v24H0V0z\" fill=\"none\"/>\n",
       "    <path d=\"M18.56 5.44l.94 2.06.94-2.06 2.06-.94-2.06-.94-.94-2.06-.94 2.06-2.06.94zm-11 1L8.5 8.5l.94-2.06 2.06-.94-2.06-.94L8.5 2.5l-.94 2.06-2.06.94zm10 10l.94 2.06.94-2.06 2.06-.94-2.06-.94-.94-2.06-.94 2.06-2.06.94z\"/><path d=\"M17.41 7.96l-1.37-1.37c-.4-.4-.92-.59-1.43-.59-.52 0-1.04.2-1.43.59L10.3 9.45l-7.72 7.72c-.78.78-.78 2.05 0 2.83L4 21.41c.39.39.9.59 1.41.59.51 0 1.02-.2 1.41-.59l7.78-7.78 2.81-2.81c.8-.78.8-2.07 0-2.86zM5.41 20L4 18.59l7.72-7.72 1.47 1.35L5.41 20z\"/>\n",
       "  </svg>\n",
       "      </button>\n",
       "      \n",
       "  <style>\n",
       "    .colab-df-container {\n",
       "      display:flex;\n",
       "      flex-wrap:wrap;\n",
       "      gap: 12px;\n",
       "    }\n",
       "\n",
       "    .colab-df-convert {\n",
       "      background-color: #E8F0FE;\n",
       "      border: none;\n",
       "      border-radius: 50%;\n",
       "      cursor: pointer;\n",
       "      display: none;\n",
       "      fill: #1967D2;\n",
       "      height: 32px;\n",
       "      padding: 0 0 0 0;\n",
       "      width: 32px;\n",
       "    }\n",
       "\n",
       "    .colab-df-convert:hover {\n",
       "      background-color: #E2EBFA;\n",
       "      box-shadow: 0px 1px 2px rgba(60, 64, 67, 0.3), 0px 1px 3px 1px rgba(60, 64, 67, 0.15);\n",
       "      fill: #174EA6;\n",
       "    }\n",
       "\n",
       "    [theme=dark] .colab-df-convert {\n",
       "      background-color: #3B4455;\n",
       "      fill: #D2E3FC;\n",
       "    }\n",
       "\n",
       "    [theme=dark] .colab-df-convert:hover {\n",
       "      background-color: #434B5C;\n",
       "      box-shadow: 0px 1px 3px 1px rgba(0, 0, 0, 0.15);\n",
       "      filter: drop-shadow(0px 1px 2px rgba(0, 0, 0, 0.3));\n",
       "      fill: #FFFFFF;\n",
       "    }\n",
       "  </style>\n",
       "\n",
       "      <script>\n",
       "        const buttonEl =\n",
       "          document.querySelector('#df-aa824faa-4139-4f12-9e17-b6b4111a46fc button.colab-df-convert');\n",
       "        buttonEl.style.display =\n",
       "          google.colab.kernel.accessAllowed ? 'block' : 'none';\n",
       "\n",
       "        async function convertToInteractive(key) {\n",
       "          const element = document.querySelector('#df-aa824faa-4139-4f12-9e17-b6b4111a46fc');\n",
       "          const dataTable =\n",
       "            await google.colab.kernel.invokeFunction('convertToInteractive',\n",
       "                                                     [key], {});\n",
       "          if (!dataTable) return;\n",
       "\n",
       "          const docLinkHtml = 'Like what you see? Visit the ' +\n",
       "            '<a target=\"_blank\" href=https://colab.research.google.com/notebooks/data_table.ipynb>data table notebook</a>'\n",
       "            + ' to learn more about interactive tables.';\n",
       "          element.innerHTML = '';\n",
       "          dataTable['output_type'] = 'display_data';\n",
       "          await google.colab.output.renderOutput(dataTable, element);\n",
       "          const docLink = document.createElement('div');\n",
       "          docLink.innerHTML = docLinkHtml;\n",
       "          element.appendChild(docLink);\n",
       "        }\n",
       "      </script>\n",
       "    </div>\n",
       "  </div>\n",
       "  "
      ],
      "text/plain": [
       "                             images     target  \\\n",
       "0     person1814_bacteria_4669.jpeg  PNEUMONIA   \n",
       "1      person359_bacteria_1646.jpeg  PNEUMONIA   \n",
       "2      person420_bacteria_1847.jpeg  PNEUMONIA   \n",
       "3                 IM-0555-0001.jpeg     NORMAL   \n",
       "4        person1122_virus_1847.jpeg  PNEUMONIA   \n",
       "...                             ...        ...   \n",
       "5213       person294_virus_611.jpeg  PNEUMONIA   \n",
       "5214   person827_bacteria_2738.jpeg  PNEUMONIA   \n",
       "5215     person1433_virus_2447.jpeg  PNEUMONIA   \n",
       "5216   person279_bacteria_1315.jpeg  PNEUMONIA   \n",
       "5217   person448_bacteria_1933.jpeg  PNEUMONIA   \n",
       "\n",
       "                                            image_paths  \n",
       "0     drive/MyDrive/Colab Notebooks/chest_xray/chest...  \n",
       "1     drive/MyDrive/Colab Notebooks/chest_xray/chest...  \n",
       "2     drive/MyDrive/Colab Notebooks/chest_xray/chest...  \n",
       "3     drive/MyDrive/Colab Notebooks/chest_xray/chest...  \n",
       "4     drive/MyDrive/Colab Notebooks/chest_xray/chest...  \n",
       "...                                                 ...  \n",
       "5213  drive/MyDrive/Colab Notebooks/chest_xray/chest...  \n",
       "5214  drive/MyDrive/Colab Notebooks/chest_xray/chest...  \n",
       "5215  drive/MyDrive/Colab Notebooks/chest_xray/chest...  \n",
       "5216  drive/MyDrive/Colab Notebooks/chest_xray/chest...  \n",
       "5217  drive/MyDrive/Colab Notebooks/chest_xray/chest...  \n",
       "\n",
       "[5218 rows x 3 columns]"
      ]
     },
     "execution_count": 12,
     "metadata": {},
     "output_type": "execute_result"
    }
   ],
   "source": [
    "# Shuffling the dataframe\n",
    "train = train.sample(frac=1).reset_index()\n",
    "train = train.drop(['index'],axis=1)\n",
    "train"
   ]
  },
  {
   "cell_type": "markdown",
   "metadata": {
    "id": "9ZyNjiPierg_"
   },
   "source": [
    "<font color='purple'><center><h1> Data Visualization and Augmentation </h1></center>"
   ]
  },
  {
   "cell_type": "markdown",
   "metadata": {
    "id": "06x95nuGf20r"
   },
   "source": [
    "<font color='blue'><center><h2> Data Visualization </h2></center>"
   ]
  },
  {
   "cell_type": "code",
   "execution_count": 14,
   "metadata": {
    "colab": {
     "base_uri": "https://localhost:8080/",
     "height": 289
    },
    "id": "us3DJcY-esVH",
    "outputId": "e5af9f9a-5058-4da5-ab05-a472155ee3f2"
   },
   "outputs": [
    {
     "name": "stdout",
     "output_type": "stream",
     "text": [
      "target: NORMAL\n"
     ]
    },
    {
     "data": {
      "image/png": "[encoded data removed]",
      "text/plain": [
       "<Figure size 432x288 with 1 Axes>"
      ]
     },
     "metadata": {
      "needs_background": "light"
     },
     "output_type": "display_data"
    }
   ],
   "source": [
    "# Display Normal image\n",
    "img_normal = plt.imread(train['image_paths'][3])\n",
    "plt.imshow(img_normal)\n",
    "print('target:' ,train['target'][3])"
   ]
  },
  {
   "cell_type": "code",
   "execution_count": 15,
   "metadata": {
    "colab": {
     "base_uri": "https://localhost:8080/",
     "height": 283
    },
    "id": "YNZx9vCffDP1",
    "outputId": "483dc4ff-9be2-4def-f60f-71831cf2f0f1"
   },
   "outputs": [
    {
     "name": "stdout",
     "output_type": "stream",
     "text": [
      "target: PNEUMONIA\n"
     ]
    },
    {
     "data": {
      "image/png": "[encoded data removed]",
      "text/plain": [
       "<Figure size 432x288 with 1 Axes>"
      ]
     },
     "metadata": {
      "needs_background": "light"
     },
     "output_type": "display_data"
    }
   ],
   "source": [
    "# Display Pneumonia image\n",
    "img_pneumonia = plt.imread(train['image_paths'][0])\n",
    "plt.imshow(img_pneumonia)\n",
    "\n",
    "print('target:' ,train['target'][0])"
   ]
  },
  {
   "cell_type": "markdown",
   "metadata": {
    "id": "CffBUdmIfKBM"
   },
   "source": [
    "<font color='blue'><center><h2> Data Augmentation </h2></center>"
   ]
  },
  {
   "cell_type": "code",
   "execution_count": 16,
   "metadata": {
    "id": "A9V1s3u2fLYb"
   },
   "outputs": [],
   "source": [
    "IMG_SIZE = 64\n",
    "BATCH = 16\n",
    "SEED = 42\n",
    "\n",
    "train_datagen = tf.keras.preprocessing.image.ImageDataGenerator(rescale=1/255., zoom_range = 0.1, rotation_range = 0.1,\n",
    "                                                                width_shift_range = 0.1, height_shift_range = 0.1)\n",
    "\n",
    "val_datagen = tf.keras.preprocessing.image.ImageDataGenerator(rescale=1/255.)\n",
    "\n",
    "test_datagen = tf.keras.preprocessing.image.ImageDataGenerator(rescale=1/255.)"
   ]
  },
  {
   "cell_type": "code",
   "execution_count": 17,
   "metadata": {
    "colab": {
     "base_uri": "https://localhost:8080/"
    },
    "id": "QqYCjREFfNy1",
    "outputId": "531c5241-7283-4095-915f-318859be82ab"
   },
   "outputs": [
    {
     "name": "stdout",
     "output_type": "stream",
     "text": [
      "Found 5216 validated image filenames belonging to 2 classes.\n",
      "Found 16 validated image filenames belonging to 2 classes.\n",
      "Found 624 validated image filenames belonging to 2 classes.\n"
     ]
    },
    {
     "name": "stderr",
     "output_type": "stream",
     "text": [
      "/usr/local/lib/python3.7/dist-packages/keras_preprocessing/image/dataframe_iterator.py:282: UserWarning: Found 2 invalid image filename(s) in x_col=\"image_paths\". These filename(s) will be ignored.\n",
      "  .format(n_invalid, x_col)\n"
     ]
    }
   ],
   "source": [
    "#directory=train_path, #dataframe contains the full paths\n",
    "\n",
    "ds_train = train_datagen.flow_from_dataframe(train, x_col = 'image_paths', y_col = 'target', target_size = (IMG_SIZE, IMG_SIZE),\n",
    "                                             class_mode = 'binary', batch_size = BATCH, seed = SEED)\n",
    "\n",
    "ds_val = val_datagen.flow_from_dataframe(val, x_col = 'image_paths', y_col = 'target', target_size = (IMG_SIZE, IMG_SIZE),\n",
    "                                         class_mode = 'binary', batch_size = BATCH, seed = SEED)\n",
    "\n",
    "ds_test = test_datagen.flow_from_dataframe(test, x_col = 'image_paths', y_col = 'target', target_size = (IMG_SIZE, IMG_SIZE),\n",
    "                                          class_mode = 'binary', batch_size = BATCH, shuffle = False)"
   ]
  },
  {
   "cell_type": "markdown",
   "metadata": {
    "id": "U8rc76RPfTjU"
   },
   "source": [
    "<font color='purple'><center><h1> Build the Model - Main </h1></center>"
   ]
  },
  {
   "cell_type": "code",
   "execution_count": 37,
   "metadata": {
    "colab": {
     "base_uri": "https://localhost:8080/"
    },
    "id": "aDGYFBZ3fQJc",
    "outputId": "a28c6ffb-4185-4952-e847-e3d02f4b7dad"
   },
   "outputs": [
    {
     "name": "stdout",
     "output_type": "stream",
     "text": [
      "Model: \"sequential\"\n",
      "_________________________________________________________________\n",
      " Layer (type)                Output Shape              Param #   \n",
      "=================================================================\n",
      " conv2d (Conv2D)             (None, 62, 62, 16)        448       \n",
      "                                                                 \n",
      " max_pooling2d (MaxPooling2D  (None, 31, 31, 16)       0         \n",
      " )                                                               \n",
      "                                                                 \n",
      " conv2d_1 (Conv2D)           (None, 29, 29, 32)        4640      \n",
      "                                                                 \n",
      " max_pooling2d_1 (MaxPooling  (None, 14, 14, 32)       0         \n",
      " 2D)                                                             \n",
      "                                                                 \n",
      " conv2d_2 (Conv2D)           (None, 12, 12, 64)        18496     \n",
      "                                                                 \n",
      " max_pooling2d_2 (MaxPooling  (None, 6, 6, 64)         0         \n",
      " 2D)                                                             \n",
      "                                                                 \n",
      " conv2d_3 (Conv2D)           (None, 4, 4, 64)          36928     \n",
      "                                                                 \n",
      " max_pooling2d_3 (MaxPooling  (None, 2, 2, 64)         0         \n",
      " 2D)                                                             \n",
      "                                                                 \n",
      " flatten (Flatten)           (None, 256)               0         \n",
      "                                                                 \n",
      " dense (Dense)               (None, 128)               32896     \n",
      "                                                                 \n",
      " dense_1 (Dense)             (None, 1)                 129       \n",
      "                                                                 \n",
      "=================================================================\n",
      "Total params: 93,537\n",
      "Trainable params: 93,537\n",
      "Non-trainable params: 0\n",
      "_________________________________________________________________\n"
     ]
    }
   ],
   "source": [
    "model = tf.keras.Sequential()\n",
    "\n",
    "# Input layer\n",
    "model.add(tf.keras.layers.Conv2D(filters=16, kernel_size=3, activation='relu', input_shape=[64, 64, 3]))\n",
    "model.add(tf.keras.layers.MaxPool2D(pool_size=2, strides=2))\n",
    "\n",
    "# Hidden Layer 1\n",
    "model.add(tf.keras.layers.Conv2D(filters=32, kernel_size=3, activation='relu'))\n",
    "model.add(tf.keras.layers.MaxPool2D(pool_size=2, strides=2))\n",
    "\n",
    "# Hidden Layer 2\n",
    "model.add(tf.keras.layers.Conv2D(filters=64, kernel_size=3, activation='relu'))\n",
    "model.add(tf.keras.layers.MaxPool2D(pool_size=2, strides=2))\n",
    "\n",
    "# Hidden Layer 3\n",
    "model.add(tf.keras.layers.Conv2D(filters=64, kernel_size=3, activation='relu'))\n",
    "model.add(tf.keras.layers.MaxPool2D(pool_size=2, strides=2))\n",
    "\n",
    "# Hidden Layer 4 - Flattening\n",
    "model.add(tf.keras.layers.Flatten())\n",
    "model.add(tf.keras.layers.Dense(units=128, activation='relu'))\n",
    "\n",
    "# Output Layer\n",
    "model.add(tf.keras.layers.Dense(units=1, activation='sigmoid'))\n",
    "\n",
    "# Print Model Summary\n",
    "model.summary()"
   ]
  },
  {
   "cell_type": "code",
   "execution_count": 38,
   "metadata": {
    "colab": {
     "base_uri": "https://localhost:8080/"
    },
    "id": "6RWw1aByfqVk",
    "outputId": "e7c7ed00-2924-4210-ba81-ee9371c9b7e7"
   },
   "outputs": [
    {
     "name": "stdout",
     "output_type": "stream",
     "text": [
      "Epoch 1/12\n",
      "INFO:tensorflow:Assets written to: ./saved_models/bestmodel_0/assets\n",
      "326/326 - 1015s - loss: 0.4373 - accuracy: 0.8029 - val_loss: 0.5706 - val_accuracy: 0.7500 - 1015s/epoch - 3s/step\n",
      "Epoch 2/12\n",
      "326/326 - 86s - loss: 0.2020 - accuracy: 0.9191 - val_loss: 0.8160 - val_accuracy: 0.6250 - 86s/epoch - 263ms/step\n",
      "Epoch 3/12\n",
      "INFO:tensorflow:Assets written to: ./saved_models/bestmodel_0/assets\n",
      "326/326 - 88s - loss: 0.1723 - accuracy: 0.9369 - val_loss: 0.4881 - val_accuracy: 0.8750 - 88s/epoch - 269ms/step\n",
      "Epoch 4/12\n",
      "INFO:tensorflow:Assets written to: ./saved_models/bestmodel_0/assets\n",
      "326/326 - 89s - loss: 0.1452 - accuracy: 0.9429 - val_loss: 0.3954 - val_accuracy: 0.8125 - 89s/epoch - 274ms/step\n",
      "Epoch 5/12\n",
      "326/326 - 86s - loss: 0.1386 - accuracy: 0.9440 - val_loss: 0.4305 - val_accuracy: 0.8125 - 86s/epoch - 264ms/step\n",
      "Epoch 6/12\n",
      "326/326 - 88s - loss: 0.1180 - accuracy: 0.9572 - val_loss: 0.6775 - val_accuracy: 0.6875 - 88s/epoch - 270ms/step\n",
      "Epoch 7/12\n",
      "326/326 - 88s - loss: 0.1259 - accuracy: 0.9519 - val_loss: 0.4522 - val_accuracy: 0.7500 - 88s/epoch - 271ms/step\n",
      "Epoch 8/12\n",
      "326/326 - 89s - loss: 0.1132 - accuracy: 0.9578 - val_loss: 0.5081 - val_accuracy: 0.6250 - 89s/epoch - 273ms/step\n",
      "Epoch 9/12\n",
      "INFO:tensorflow:Assets written to: ./saved_models/bestmodel_0/assets\n",
      "326/326 - 89s - loss: 0.1025 - accuracy: 0.9611 - val_loss: 0.3894 - val_accuracy: 0.8750 - 89s/epoch - 273ms/step\n",
      "Epoch 10/12\n",
      "326/326 - 87s - loss: 0.1160 - accuracy: 0.9559 - val_loss: 0.5935 - val_accuracy: 0.6875 - 87s/epoch - 268ms/step\n",
      "Epoch 11/12\n",
      "INFO:tensorflow:Assets written to: ./saved_models/bestmodel_0/assets\n",
      "326/326 - 89s - loss: 0.1115 - accuracy: 0.9590 - val_loss: 0.3646 - val_accuracy: 0.8125 - 89s/epoch - 272ms/step\n",
      "Epoch 12/12\n",
      "INFO:tensorflow:Assets written to: ./saved_models/bestmodel_0/assets\n",
      "326/326 - 88s - loss: 0.1022 - accuracy: 0.9615 - val_loss: 0.3255 - val_accuracy: 0.9375 - 88s/epoch - 270ms/step\n"
     ]
    }
   ],
   "source": [
    "### CallBacks\n",
    "count = 0\n",
    "\n",
    "### Save the best model\n",
    "saved_callbacks = tf.keras.callbacks.ModelCheckpoint('./saved_models/bestmodel_'+str(count), \n",
    "                                                     save_weights_only=False, monitor='val_loss', save_best_only=True)\n",
    "    \n",
    "### Compile and Fit Model \n",
    "model.compile(optimizer = tf.keras.optimizers.Adam(), loss = tf.keras.losses.BinaryCrossentropy(), metrics = ['accuracy',])  \n",
    "\n",
    "history = model.fit(ds_train, validation_data = ds_val, epochs=12, verbose=2, callbacks=[saved_callbacks])"
   ]
  },
  {
   "cell_type": "markdown",
   "metadata": {
    "id": "W69EPmr-fm7U"
   },
   "source": [
    "<font color='purple'><center><h1> Evaluate the Model </h1></center>"
   ]
  },
  {
   "cell_type": "code",
   "execution_count": 39,
   "metadata": {
    "colab": {
     "base_uri": "https://localhost:8080/"
    },
    "id": "O4kyZDxWfvL1",
    "outputId": "084e3be3-000d-45f5-b0a6-0cb694ee893f"
   },
   "outputs": [
    {
     "name": "stdout",
     "output_type": "stream",
     "text": [
      "39/39 [==============================] - 115s 3s/step - loss: 0.3108 - accuracy: 0.8958\n"
     ]
    },
    {
     "data": {
      "text/plain": [
       "[0.3108167052268982, 0.8958333134651184]"
      ]
     },
     "execution_count": 39,
     "metadata": {},
     "output_type": "execute_result"
    }
   ],
   "source": [
    "model = tf.keras.models.load_model('./saved_models/bestmodel_'+str(count))\n",
    "model.evaluate(ds_test)"
   ]
  },
  {
   "cell_type": "markdown",
   "metadata": {
    "id": "d576JfhtiRjs"
   },
   "source": [
    "<font color='blue'><center><h2> Confusion Matrix & Classification Report </h2></center>"
   ]
  },
  {
   "cell_type": "code",
   "execution_count": 40,
   "metadata": {
    "colab": {
     "base_uri": "https://localhost:8080/"
    },
    "id": "jdsNi86Ohwsr",
    "outputId": "443a5088-916a-4b8f-e74c-e64e2f69e8fa"
   },
   "outputs": [
    {
     "name": "stdout",
     "output_type": "stream",
     "text": [
      "Confusion Matrix\n",
      "[[234   0]\n",
      " [390   0]]\n",
      "Classification Report\n",
      "              precision    recall  f1-score   support\n",
      "\n",
      "      Normal       0.38      1.00      0.55       234\n",
      "   Pneumonia       0.00      0.00      0.00       390\n",
      "\n",
      "    accuracy                           0.38       624\n",
      "   macro avg       0.19      0.50      0.27       624\n",
      "weighted avg       0.14      0.38      0.20       624\n",
      "\n"
     ]
    },
    {
     "name": "stderr",
     "output_type": "stream",
     "text": [
      "/usr/local/lib/python3.7/dist-packages/sklearn/metrics/_classification.py:1318: UndefinedMetricWarning: Precision and F-score are ill-defined and being set to 0.0 in labels with no predicted samples. Use `zero_division` parameter to control this behavior.\n",
      "  _warn_prf(average, modifier, msg_start, len(result))\n",
      "/usr/local/lib/python3.7/dist-packages/sklearn/metrics/_classification.py:1318: UndefinedMetricWarning: Precision and F-score are ill-defined and being set to 0.0 in labels with no predicted samples. Use `zero_division` parameter to control this behavior.\n",
      "  _warn_prf(average, modifier, msg_start, len(result))\n",
      "/usr/local/lib/python3.7/dist-packages/sklearn/metrics/_classification.py:1318: UndefinedMetricWarning: Precision and F-score are ill-defined and being set to 0.0 in labels with no predicted samples. Use `zero_division` parameter to control this behavior.\n",
      "  _warn_prf(average, modifier, msg_start, len(result))\n"
     ]
    }
   ],
   "source": [
    "#Confusion Matrix and Classification Report\n",
    "Y_pred = model.predict(ds_test, 39)\n",
    "y_pred = np.argmax(Y_pred, axis=1)\n",
    "print('Confusion Matrix')\n",
    "print(confusion_matrix(ds_test.classes, y_pred))\n",
    "print('Classification Report')\n",
    "target_names = ['Normal', 'Pneumonia']\n",
    "print(classification_report(ds_test.classes, y_pred, target_names=target_names))"
   ]
  },
  {
   "cell_type": "markdown",
   "metadata": {
    "id": "5t5egevSilzU"
   },
   "source": [
    "<font color='blue'><center><h2> Plotting Loss and Accuracy </h2></center>"
   ]
  },
  {
   "cell_type": "code",
   "execution_count": 41,
   "metadata": {
    "colab": {
     "base_uri": "https://localhost:8080/",
     "height": 297
    },
    "id": "6clJ-G1BfxyE",
    "outputId": "6ae916d3-1d29-4e9a-953b-b501fd3e6aed"
   },
   "outputs": [
    {
     "data": {
      "image/png": "[encoded data removed]",
      "text/plain": [
       "<Figure size 432x288 with 2 Axes>"
      ]
     },
     "metadata": {
      "needs_background": "light"
     },
     "output_type": "display_data"
    }
   ],
   "source": [
    "plt.subplot(2 ,1, 1)\n",
    "a = plt.plot(history.history['loss'])\n",
    "plt.ylabel('loss')\n",
    "plt.xlabel('epoch')\n",
    "\n",
    "plt.subplot(2, 1 ,2)\n",
    "b = plt.plot(history.history['accuracy'],color=\"green\")\n",
    "plt.ylabel('accuracy')\n",
    "plt.xlabel('epoch')\n",
    "\n",
    "plt.tight_layout()\n",
    "plt.show()"
   ]
  },
  {
   "cell_type": "markdown",
   "metadata": {
    "id": "p5QzM3iggbbM"
   },
   "source": [
    "<font color='purple'><center><h1> Hyperparameter Tuning with SGD Optimizer - Model 2 </h1></center>"
   ]
  },
  {
   "cell_type": "code",
   "execution_count": 42,
   "metadata": {
    "colab": {
     "base_uri": "https://localhost:8080/"
    },
    "id": "5Gv11KTtgaqX",
    "outputId": "5ca451ed-8db8-4eb2-ec02-bd4ac3bc4242"
   },
   "outputs": [
    {
     "name": "stdout",
     "output_type": "stream",
     "text": [
      "Model: \"sequential_1\"\n",
      "_________________________________________________________________\n",
      " Layer (type)                Output Shape              Param #   \n",
      "=================================================================\n",
      " conv2d_4 (Conv2D)           (None, 62, 62, 16)        448       \n",
      "                                                                 \n",
      " max_pooling2d_4 (MaxPooling  (None, 31, 31, 16)       0         \n",
      " 2D)                                                             \n",
      "                                                                 \n",
      " conv2d_5 (Conv2D)           (None, 29, 29, 32)        4640      \n",
      "                                                                 \n",
      " max_pooling2d_5 (MaxPooling  (None, 14, 14, 32)       0         \n",
      " 2D)                                                             \n",
      "                                                                 \n",
      " conv2d_6 (Conv2D)           (None, 12, 12, 64)        18496     \n",
      "                                                                 \n",
      " max_pooling2d_6 (MaxPooling  (None, 6, 6, 64)         0         \n",
      " 2D)                                                             \n",
      "                                                                 \n",
      " conv2d_7 (Conv2D)           (None, 4, 4, 64)          36928     \n",
      "                                                                 \n",
      " max_pooling2d_7 (MaxPooling  (None, 2, 2, 64)         0         \n",
      " 2D)                                                             \n",
      "                                                                 \n",
      " flatten_1 (Flatten)         (None, 256)               0         \n",
      "                                                                 \n",
      " dense_2 (Dense)             (None, 128)               32896     \n",
      "                                                                 \n",
      " dense_3 (Dense)             (None, 1)                 129       \n",
      "                                                                 \n",
      "=================================================================\n",
      "Total params: 93,537\n",
      "Trainable params: 93,537\n",
      "Non-trainable params: 0\n",
      "_________________________________________________________________\n"
     ]
    }
   ],
   "source": [
    "model_2 = tf.keras.Sequential()\n",
    "\n",
    "# Input layer\n",
    "model_2.add(tf.keras.layers.Conv2D(filters=16, kernel_size=3, activation='relu', input_shape=[64, 64, 3]))\n",
    "model_2.add(tf.keras.layers.MaxPool2D(pool_size=2, strides=2))\n",
    "\n",
    "# Hidden Layer 1\n",
    "model_2.add(tf.keras.layers.Conv2D(filters=32, kernel_size=3, activation='relu'))\n",
    "model_2.add(tf.keras.layers.MaxPool2D(pool_size=2, strides=2))\n",
    "\n",
    "# Hidden Layer 2\n",
    "model_2.add(tf.keras.layers.Conv2D(filters=64, kernel_size=3, activation='relu'))\n",
    "model_2.add(tf.keras.layers.MaxPool2D(pool_size=2, strides=2))\n",
    "\n",
    "# Hidden Layer 3\n",
    "model_2.add(tf.keras.layers.Conv2D(filters=64, kernel_size=3, activation='relu'))\n",
    "model_2.add(tf.keras.layers.MaxPool2D(pool_size=2, strides=2))\n",
    "\n",
    "# Hidden Layer 4 - Flattening\n",
    "model_2.add(tf.keras.layers.Flatten())\n",
    "model_2.add(tf.keras.layers.Dense(units=128, activation='relu'))\n",
    "\n",
    "# Output Layer\n",
    "model_2.add(tf.keras.layers.Dense(units=1, activation='sigmoid'))\n",
    "\n",
    "# Print Model Summary\n",
    "model_2.summary()"
   ]
  },
  {
   "cell_type": "code",
   "execution_count": 43,
   "metadata": {
    "colab": {
     "base_uri": "https://localhost:8080/"
    },
    "id": "EV_tLRnxjHkN",
    "outputId": "151d6df6-ff61-4ae9-8860-81cc447f000d"
   },
   "outputs": [
    {
     "name": "stdout",
     "output_type": "stream",
     "text": [
      "Epoch 1/12\n",
      "INFO:tensorflow:Assets written to: ./saved_models/bestmodel_0/assets\n",
      "326/326 - 91s - loss: 0.5813 - accuracy: 0.7421 - val_loss: 0.7957 - val_accuracy: 0.5000 - 91s/epoch - 280ms/step\n",
      "Epoch 2/12\n",
      "326/326 - 88s - loss: 0.5558 - accuracy: 0.7429 - val_loss: 0.7961 - val_accuracy: 0.5000 - 88s/epoch - 270ms/step\n",
      "Epoch 3/12\n",
      "326/326 - 90s - loss: 0.5014 - accuracy: 0.7590 - val_loss: 0.8956 - val_accuracy: 0.5625 - 90s/epoch - 276ms/step\n",
      "Epoch 4/12\n",
      "INFO:tensorflow:Assets written to: ./saved_models/bestmodel_0/assets\n",
      "326/326 - 89s - loss: 0.4146 - accuracy: 0.8066 - val_loss: 0.5913 - val_accuracy: 0.6875 - 89s/epoch - 274ms/step\n",
      "Epoch 5/12\n",
      "INFO:tensorflow:Assets written to: ./saved_models/bestmodel_0/assets\n",
      "326/326 - 90s - loss: 0.3224 - accuracy: 0.8589 - val_loss: 0.4584 - val_accuracy: 0.8125 - 90s/epoch - 276ms/step\n",
      "Epoch 6/12\n",
      "INFO:tensorflow:Assets written to: ./saved_models/bestmodel_0/assets\n",
      "326/326 - 91s - loss: 0.2773 - accuracy: 0.8854 - val_loss: 0.3833 - val_accuracy: 0.8125 - 91s/epoch - 279ms/step\n",
      "Epoch 7/12\n",
      "326/326 - 88s - loss: 0.2350 - accuracy: 0.9078 - val_loss: 0.4682 - val_accuracy: 0.6875 - 88s/epoch - 271ms/step\n",
      "Epoch 8/12\n",
      "326/326 - 88s - loss: 0.2229 - accuracy: 0.9107 - val_loss: 0.5048 - val_accuracy: 0.6250 - 88s/epoch - 271ms/step\n",
      "Epoch 9/12\n",
      "326/326 - 88s - loss: 0.2025 - accuracy: 0.9199 - val_loss: 0.5802 - val_accuracy: 0.6875 - 88s/epoch - 270ms/step\n",
      "Epoch 10/12\n",
      "326/326 - 89s - loss: 0.1981 - accuracy: 0.9202 - val_loss: 0.3999 - val_accuracy: 0.7500 - 89s/epoch - 272ms/step\n",
      "Epoch 11/12\n",
      "326/326 - 88s - loss: 0.1812 - accuracy: 0.9321 - val_loss: 0.5754 - val_accuracy: 0.6875 - 88s/epoch - 270ms/step\n",
      "Epoch 12/12\n",
      "326/326 - 88s - loss: 0.1819 - accuracy: 0.9296 - val_loss: 0.8051 - val_accuracy: 0.6875 - 88s/epoch - 269ms/step\n"
     ]
    }
   ],
   "source": [
    "### CallBacks\n",
    "count = 0\n",
    "\n",
    "### Save the best model\n",
    "saved_callbacks = tf.keras.callbacks.ModelCheckpoint('./saved_models/bestmodel_'+str(count), \n",
    "                  save_weights_only=False, monitor='val_loss', save_best_only=True)\n",
    "    \n",
    "### Compile and Fit Model \n",
    "model_2.compile(optimizer = tf.keras.optimizers.SGD(), loss = tf.keras.losses.BinaryCrossentropy(), metrics = ['accuracy',])  \n",
    "\n",
    "history_2 = model_2.fit(ds_train, validation_data = ds_val, epochs=12, verbose=2, callbacks=[saved_callbacks])"
   ]
  },
  {
   "cell_type": "code",
   "execution_count": 44,
   "metadata": {
    "colab": {
     "base_uri": "https://localhost:8080/"
    },
    "id": "XcNGH_tjjIPM",
    "outputId": "85fc577d-72d3-4ffd-859c-70aab7b8fcf0"
   },
   "outputs": [
    {
     "name": "stdout",
     "output_type": "stream",
     "text": [
      "39/39 [==============================] - 8s 211ms/step - loss: 0.3778 - accuracy: 0.8157\n"
     ]
    },
    {
     "data": {
      "text/plain": [
       "[0.3778236210346222, 0.8157051205635071]"
      ]
     },
     "execution_count": 44,
     "metadata": {},
     "output_type": "execute_result"
    }
   ],
   "source": [
    "model_2 = tf.keras.models.load_model('./saved_models/bestmodel_'+str(count))\n",
    "model_2.evaluate(ds_test)"
   ]
  },
  {
   "cell_type": "code",
   "execution_count": 45,
   "metadata": {
    "colab": {
     "base_uri": "https://localhost:8080/"
    },
    "id": "S4HXcVZVhWQA",
    "outputId": "1f21fcad-dc7f-4c37-8539-b11b01643e91"
   },
   "outputs": [
    {
     "name": "stderr",
     "output_type": "stream",
     "text": [
      "/usr/local/lib/python3.7/dist-packages/ipykernel_launcher.py:2: UserWarning: `Model.predict_generator` is deprecated and will be removed in a future version. Please use `Model.predict`, which supports generators.\n",
      "  \n"
     ]
    },
    {
     "name": "stdout",
     "output_type": "stream",
     "text": [
      "WARNING:tensorflow:Your input ran out of data; interrupting training. Make sure that your dataset or generator can generate at least `steps_per_epoch * epochs` batches (in this case, 40 batches). You may need to use the repeat() function when building your dataset.\n",
      "Confusion Matrix\n",
      "[[234   0]\n",
      " [390   0]]\n",
      "Classification Report\n",
      "              precision    recall  f1-score   support\n",
      "\n",
      "      Normal       0.38      1.00      0.55       234\n",
      "   Pneumonia       0.00      0.00      0.00       390\n",
      "\n",
      "    accuracy                           0.38       624\n",
      "   macro avg       0.19      0.50      0.27       624\n",
      "weighted avg       0.14      0.38      0.20       624\n",
      "\n"
     ]
    },
    {
     "name": "stderr",
     "output_type": "stream",
     "text": [
      "/usr/local/lib/python3.7/dist-packages/sklearn/metrics/_classification.py:1318: UndefinedMetricWarning: Precision and F-score are ill-defined and being set to 0.0 in labels with no predicted samples. Use `zero_division` parameter to control this behavior.\n",
      "  _warn_prf(average, modifier, msg_start, len(result))\n",
      "/usr/local/lib/python3.7/dist-packages/sklearn/metrics/_classification.py:1318: UndefinedMetricWarning: Precision and F-score are ill-defined and being set to 0.0 in labels with no predicted samples. Use `zero_division` parameter to control this behavior.\n",
      "  _warn_prf(average, modifier, msg_start, len(result))\n",
      "/usr/local/lib/python3.7/dist-packages/sklearn/metrics/_classification.py:1318: UndefinedMetricWarning: Precision and F-score are ill-defined and being set to 0.0 in labels with no predicted samples. Use `zero_division` parameter to control this behavior.\n",
      "  _warn_prf(average, modifier, msg_start, len(result))\n"
     ]
    }
   ],
   "source": [
    "#Confusion Matrix and Classification Report\n",
    "Y_pred_2 = model_2.predict_generator(ds_test, 40)\n",
    "y_pred_2 = np.argmax(Y_pred_2, axis=1)\n",
    "print('Confusion Matrix')\n",
    "print(confusion_matrix(ds_test.classes, y_pred_2))\n",
    "print('Classification Report')\n",
    "target_names = ['Normal', 'Pneumonia']\n",
    "print(classification_report(ds_test.classes, y_pred_2, target_names=target_names))"
   ]
  },
  {
   "cell_type": "markdown",
   "metadata": {
    "id": "5i2OVqFnjqFU"
   },
   "source": [
    "<font color='purple'><center><h1> Hyperparameter Tuning with Network Depth - Model 3 </h1></center>\n",
    "\n",
    "---\n",
    "\n"
   ]
  },
  {
   "cell_type": "code",
   "execution_count": 46,
   "metadata": {
    "colab": {
     "base_uri": "https://localhost:8080/"
    },
    "id": "H6Bj9w0Cjrq9",
    "outputId": "2d7a35af-b4ed-4d35-f212-e9677f5a3953"
   },
   "outputs": [
    {
     "name": "stdout",
     "output_type": "stream",
     "text": [
      "Model: \"sequential_2\"\n",
      "_________________________________________________________________\n",
      " Layer (type)                Output Shape              Param #   \n",
      "=================================================================\n",
      " conv2d_8 (Conv2D)           (None, 62, 62, 16)        448       \n",
      "                                                                 \n",
      " max_pooling2d_8 (MaxPooling  (None, 31, 31, 16)       0         \n",
      " 2D)                                                             \n",
      "                                                                 \n",
      " conv2d_9 (Conv2D)           (None, 29, 29, 32)        4640      \n",
      "                                                                 \n",
      " max_pooling2d_9 (MaxPooling  (None, 14, 14, 32)       0         \n",
      " 2D)                                                             \n",
      "                                                                 \n",
      " conv2d_10 (Conv2D)          (None, 12, 12, 64)        18496     \n",
      "                                                                 \n",
      " max_pooling2d_10 (MaxPoolin  (None, 6, 6, 64)         0         \n",
      " g2D)                                                            \n",
      "                                                                 \n",
      " flatten_2 (Flatten)         (None, 2304)              0         \n",
      "                                                                 \n",
      " dense_4 (Dense)             (None, 128)               295040    \n",
      "                                                                 \n",
      " dense_5 (Dense)             (None, 1)                 129       \n",
      "                                                                 \n",
      "=================================================================\n",
      "Total params: 318,753\n",
      "Trainable params: 318,753\n",
      "Non-trainable params: 0\n",
      "_________________________________________________________________\n"
     ]
    }
   ],
   "source": [
    "model_3 = tf.keras.Sequential()\n",
    "\n",
    "# Input layer\n",
    "model_3.add(tf.keras.layers.Conv2D(filters=16, kernel_size=3, activation='relu', input_shape=[64, 64, 3]))\n",
    "model_3.add(tf.keras.layers.MaxPool2D(pool_size=2, strides=2))\n",
    "\n",
    "# Hidden Layer 1\n",
    "model_3.add(tf.keras.layers.Conv2D(filters=32, kernel_size=3, activation='relu'))\n",
    "model_3.add(tf.keras.layers.MaxPool2D(pool_size=2, strides=2))\n",
    "\n",
    "# Hidden Layer 2\n",
    "model_3.add(tf.keras.layers.Conv2D(filters=64, kernel_size=3, activation='relu'))\n",
    "model_3.add(tf.keras.layers.MaxPool2D(pool_size=2, strides=2))\n",
    "\n",
    "# Hidden Layer 3 - Flattening\n",
    "model_3.add(tf.keras.layers.Flatten())\n",
    "model_3.add(tf.keras.layers.Dense(units=128, activation='relu'))\n",
    "\n",
    "# Output Layer\n",
    "model_3.add(tf.keras.layers.Dense(units=1, activation='sigmoid'))\n",
    "\n",
    "# Print Model Summary\n",
    "model_3.summary()"
   ]
  },
  {
   "cell_type": "code",
   "execution_count": 47,
   "metadata": {
    "colab": {
     "base_uri": "https://localhost:8080/"
    },
    "id": "3bveqVb8jzJN",
    "outputId": "f658cf3b-0565-4111-ae23-c2b18ea4fa3d"
   },
   "outputs": [
    {
     "name": "stdout",
     "output_type": "stream",
     "text": [
      "Epoch 1/12\n",
      "INFO:tensorflow:Assets written to: ./saved_models/bestmodel_0/assets\n",
      "326/326 - 91s - loss: 0.4191 - accuracy: 0.8129 - val_loss: 0.3850 - val_accuracy: 0.8125 - 91s/epoch - 280ms/step\n",
      "Epoch 2/12\n",
      "INFO:tensorflow:Assets written to: ./saved_models/bestmodel_0/assets\n",
      "326/326 - 88s - loss: 0.2493 - accuracy: 0.8984 - val_loss: 0.3273 - val_accuracy: 0.8125 - 88s/epoch - 270ms/step\n",
      "Epoch 3/12\n",
      "INFO:tensorflow:Assets written to: ./saved_models/bestmodel_0/assets\n",
      "326/326 - 88s - loss: 0.1883 - accuracy: 0.9287 - val_loss: 0.3138 - val_accuracy: 0.8750 - 88s/epoch - 271ms/step\n",
      "Epoch 4/12\n",
      "INFO:tensorflow:Assets written to: ./saved_models/bestmodel_0/assets\n",
      "326/326 - 88s - loss: 0.1780 - accuracy: 0.9302 - val_loss: 0.2996 - val_accuracy: 0.9375 - 88s/epoch - 271ms/step\n",
      "Epoch 5/12\n",
      "326/326 - 89s - loss: 0.1569 - accuracy: 0.9396 - val_loss: 0.3946 - val_accuracy: 0.8750 - 89s/epoch - 273ms/step\n",
      "Epoch 6/12\n",
      "326/326 - 88s - loss: 0.1425 - accuracy: 0.9484 - val_loss: 0.3055 - val_accuracy: 0.9375 - 88s/epoch - 269ms/step\n",
      "Epoch 7/12\n",
      "326/326 - 88s - loss: 0.1343 - accuracy: 0.9473 - val_loss: 0.3967 - val_accuracy: 0.8125 - 88s/epoch - 269ms/step\n",
      "Epoch 8/12\n",
      "INFO:tensorflow:Assets written to: ./saved_models/bestmodel_0/assets\n",
      "326/326 - 91s - loss: 0.1349 - accuracy: 0.9479 - val_loss: 0.2722 - val_accuracy: 0.8125 - 91s/epoch - 280ms/step\n",
      "Epoch 9/12\n",
      "326/326 - 89s - loss: 0.1247 - accuracy: 0.9503 - val_loss: 0.3647 - val_accuracy: 0.8125 - 89s/epoch - 274ms/step\n",
      "Epoch 10/12\n",
      "INFO:tensorflow:Assets written to: ./saved_models/bestmodel_0/assets\n",
      "326/326 - 91s - loss: 0.1099 - accuracy: 0.9551 - val_loss: 0.2673 - val_accuracy: 0.8750 - 91s/epoch - 280ms/step\n",
      "Epoch 11/12\n",
      "INFO:tensorflow:Assets written to: ./saved_models/bestmodel_0/assets\n",
      "326/326 - 90s - loss: 0.1291 - accuracy: 0.9519 - val_loss: 0.2562 - val_accuracy: 0.9375 - 90s/epoch - 276ms/step\n",
      "Epoch 12/12\n",
      "326/326 - 90s - loss: 0.1182 - accuracy: 0.9549 - val_loss: 0.3900 - val_accuracy: 0.8750 - 90s/epoch - 277ms/step\n"
     ]
    }
   ],
   "source": [
    "### CallBacks\n",
    "count = 0\n",
    "\n",
    "### Save the best model\n",
    "saved_callbacks = tf.keras.callbacks.ModelCheckpoint('./saved_models/bestmodel_'+str(count), \n",
    "                  save_weights_only=False, monitor='val_loss', save_best_only=True)\n",
    "    \n",
    "### Compile and Fit Model \n",
    "model_3.compile(optimizer = tf.keras.optimizers.Adam(), loss = tf.keras.losses.BinaryCrossentropy(), metrics = ['accuracy',])  \n",
    "\n",
    "history_3 = model_3.fit(ds_train, validation_data = ds_val, epochs=12, verbose=2, callbacks=[saved_callbacks])"
   ]
  },
  {
   "cell_type": "code",
   "execution_count": 48,
   "metadata": {
    "colab": {
     "base_uri": "https://localhost:8080/"
    },
    "id": "DVNZ7Ih6j5S_",
    "outputId": "5aea1625-c8c2-492f-adc9-5e655a0563f1"
   },
   "outputs": [
    {
     "name": "stdout",
     "output_type": "stream",
     "text": [
      "39/39 [==============================] - 9s 217ms/step - loss: 0.4252 - accuracy: 0.8670\n"
     ]
    },
    {
     "data": {
      "text/plain": [
       "[0.4252314567565918, 0.8669871687889099]"
      ]
     },
     "execution_count": 48,
     "metadata": {},
     "output_type": "execute_result"
    }
   ],
   "source": [
    "model_3 = tf.keras.models.load_model('./saved_models/bestmodel_'+str(count))\n",
    "model_3.evaluate(ds_test)"
   ]
  },
  {
   "cell_type": "code",
   "execution_count": 50,
   "metadata": {
    "colab": {
     "base_uri": "https://localhost:8080/"
    },
    "id": "Cy3GLfOgxAgX",
    "outputId": "4d8d4868-38d6-4b20-f76f-b80958cb9d7b"
   },
   "outputs": [
    {
     "name": "stderr",
     "output_type": "stream",
     "text": [
      "/usr/local/lib/python3.7/dist-packages/ipykernel_launcher.py:2: UserWarning: `Model.predict_generator` is deprecated and will be removed in a future version. Please use `Model.predict`, which supports generators.\n",
      "  \n"
     ]
    },
    {
     "name": "stdout",
     "output_type": "stream",
     "text": [
      "WARNING:tensorflow:Your input ran out of data; interrupting training. Make sure that your dataset or generator can generate at least `steps_per_epoch * epochs` batches (in this case, 40 batches). You may need to use the repeat() function when building your dataset.\n",
      "Confusion Matrix\n",
      "[[234   0]\n",
      " [390   0]]\n",
      "Classification Report\n",
      "              precision    recall  f1-score   support\n",
      "\n",
      "      Normal       0.38      1.00      0.55       234\n",
      "   Pneumonia       0.00      0.00      0.00       390\n",
      "\n",
      "    accuracy                           0.38       624\n",
      "   macro avg       0.19      0.50      0.27       624\n",
      "weighted avg       0.14      0.38      0.20       624\n",
      "\n"
     ]
    },
    {
     "name": "stderr",
     "output_type": "stream",
     "text": [
      "/usr/local/lib/python3.7/dist-packages/sklearn/metrics/_classification.py:1318: UndefinedMetricWarning: Precision and F-score are ill-defined and being set to 0.0 in labels with no predicted samples. Use `zero_division` parameter to control this behavior.\n",
      "  _warn_prf(average, modifier, msg_start, len(result))\n",
      "/usr/local/lib/python3.7/dist-packages/sklearn/metrics/_classification.py:1318: UndefinedMetricWarning: Precision and F-score are ill-defined and being set to 0.0 in labels with no predicted samples. Use `zero_division` parameter to control this behavior.\n",
      "  _warn_prf(average, modifier, msg_start, len(result))\n",
      "/usr/local/lib/python3.7/dist-packages/sklearn/metrics/_classification.py:1318: UndefinedMetricWarning: Precision and F-score are ill-defined and being set to 0.0 in labels with no predicted samples. Use `zero_division` parameter to control this behavior.\n",
      "  _warn_prf(average, modifier, msg_start, len(result))\n"
     ]
    }
   ],
   "source": [
    "#Confusion Matrix and Classification Report\n",
    "Y_pred_3 = model_3.predict_generator(ds_test, 40)\n",
    "y_pred_3 = np.argmax(Y_pred_3, axis=1)\n",
    "print('Confusion Matrix')\n",
    "print(confusion_matrix(ds_test.classes, y_pred_3))\n",
    "print('Classification Report')\n",
    "target_names = ['Normal', 'Pneumonia']\n",
    "print(classification_report(ds_test.classes, y_pred_3, target_names=target_names))"
   ]
  },
  {
   "cell_type": "markdown",
   "metadata": {
    "id": "2h_FH0K3ZqQ4"
   },
   "source": [
    "<font color='purple'><center><h1> Inferences and Comments </h1></center>\n"
   ]
  },
  {
   "cell_type": "markdown",
   "metadata": {
    "id": "hSfhVr2JZ30g"
   },
   "source": [
    "<font color='green'> <b> Explanations </b> <br><br>\n",
    "<i> <ul style=\"list-style-type:disc\"> \n",
    "<li> The results of the Adam optimizer are generally better than every other optimization algorithms, have faster computation time, and require fewer parameters for tuning. Because of all that, Adam is recommended as the default optimizer for most of the applications. </li><br>\n",
    "<li> The main model that used Adam optimizer and 4 hidden layers gave ~90% accuracy whereas the other 2 models gave a lower accuracy. The model that used SGD and 4 hidden layers gave ~82% accuracy. The model that used Adam optimizer and 3 hidden layers gave ~87% accuracy.</li><br>\n",
    "\n"
   ]
  }
 ],
 "metadata": {
  "colab": {
   "collapsed_sections": [],
   "name": "Deep Learning Assignment-1: Set 5 - Part A - Computer Vision.ipynb",
   "provenance": []
  },
  "kernelspec": {
   "display_name": "Python 3 (ipykernel)",
   "language": "python",
   "name": "python3"
  },
  "language_info": {
   "codemirror_mode": {
    "name": "ipython",
    "version": 3
   },
   "file_extension": ".py",
   "mimetype": "text/x-python",
   "name": "python",
   "nbconvert_exporter": "python",
   "pygments_lexer": "ipython3",
   "version": "3.9.12"
  }
 },
 "nbformat": 4,
 "nbformat_minor": 1
}
